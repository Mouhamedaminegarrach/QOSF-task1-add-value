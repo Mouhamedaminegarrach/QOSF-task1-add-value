{
 "cells": [
  {
   "cell_type": "code",
   "execution_count": 1,
   "id": "09c844fc",
   "metadata": {},
   "outputs": [],
   "source": [
    "from qiskit import ClassicalRegister, QuantumRegister, QuantumCircuit\n",
    "import Functions as oq"
   ]
  },
  {
   "cell_type": "code",
   "execution_count": 2,
   "id": "d4d0b378",
   "metadata": {},
   "outputs": [
    {
     "name": "stdout",
     "output_type": "stream",
     "text": [
      "[[5], [7], [8], [9], [1], [5, 7], [5, 8], [5, 9], [5, 1], [7, 8], [7, 9], [7, 1], [8, 9], [8, 1], [9, 1], [5, 7, 8], [5, 7, 9], [5, 7, 1], [5, 8, 9], [5, 8, 1], [5, 9, 1], [7, 8, 9], [7, 8, 1], [7, 9, 1], [8, 9, 1], [5, 7, 8, 9], [5, 7, 8, 1], [5, 7, 9, 1], [5, 8, 9, 1], [7, 8, 9, 1], [5, 7, 8, 9, 1]]\n"
     ]
    }
   ],
   "source": [
    "import itertools\n",
    "all_combinations = []\n",
    "l1=[]\n",
    "l=[5,7,8,9,1]\n",
    "for r in range(len(l) + 1):\n",
    "    combinations_object = itertools.combinations(l, r)\n",
    "    all_combinations += combinations_object\n",
    "for i in all_combinations[1:]:\n",
    "    i=[*i]\n",
    "    l1+=[i]       \n",
    "print(l1) "
   ]
  },
  {
   "cell_type": "code",
   "execution_count": 3,
   "id": "cbd31e99",
   "metadata": {},
   "outputs": [],
   "source": [
    "def Qadd(A,B):\n",
    "    qa = QuantumRegister(len(A)+1,name='a')\n",
    "    qb = QuantumRegister(len(B),name='b')\n",
    "    qc = QuantumCircuit(qa,qb,name='qc')\n",
    "    #--------------------------------------\n",
    "    oq.Quantum_Adder(qc,qa,qb,A,B)\n",
    "    return(oq.Wavefunction(qc,systems=[len(A)+1,len(B)],show_systems=[True,False]))"
   ]
  },
  {
   "cell_type": "code",
   "execution_count": 4,
   "id": "0ca37c46",
   "metadata": {},
   "outputs": [
    {
     "name": "stdout",
     "output_type": "stream",
     "text": [
      "[7, 9]=>|01010>\n",
      "[7, 8, 1]=>|01101>\n"
     ]
    }
   ],
   "source": [
    "l=[5,7,8,9,1]\n",
    "for i in l1:\n",
    "    B=[int(t) for t in bin(i[0])[2:]]\n",
    "    k=i[0]\n",
    "    for j in range(1,len(i)): \n",
    "        A=[int(t) for t in bin(int(i[j]))[2:]]\n",
    "        \n",
    "        if (len(A)!=len(B)):\n",
    "            while True:\n",
    "                    if len(A)<len(B):\n",
    "                        A=[0]+A\n",
    "                    elif len(A)>len(B): \n",
    "                        B=[0]+B\n",
    "                    else : break\n",
    "        k+=int(i[j])\n",
    "        \n",
    "        if (k==16 and j==len(i)-1) :\n",
    "            h=[]\n",
    "            z='|'\n",
    "            for w in i:\n",
    "                h+=[l.index(w)]\n",
    "            for p in range(len(l)):\n",
    "                if p in h :\n",
    "                    z+='1'\n",
    "                else:z+='0'\n",
    "            print(str(i)+'=>'+z+'>')    \n",
    "            break\n",
    "        else:\n",
    "            c=bin(int(i[j]+i[j-1]))[2:]\n",
    "            if (c in Qadd(A,B)):\n",
    "                value=[]\n",
    "                for p in Qadd(A,B):\n",
    "                    value+=[[int(t) for t in bin(int(p,2))[2:]]]\n",
    "                B=value[Qadd(A,B).index(c)]\n",
    "            continue"
   ]
  },
  {
   "cell_type": "code",
   "execution_count": null,
   "id": "70d0c61d",
   "metadata": {},
   "outputs": [],
   "source": []
  }
 ],
 "metadata": {
  "kernelspec": {
   "display_name": "Python 3",
   "language": "python",
   "name": "python3"
  },
  "language_info": {
   "codemirror_mode": {
    "name": "ipython",
    "version": 3
   },
   "file_extension": ".py",
   "mimetype": "text/x-python",
   "name": "python",
   "nbconvert_exporter": "python",
   "pygments_lexer": "ipython3",
   "version": "3.8.8"
  }
 },
 "nbformat": 4,
 "nbformat_minor": 5
}
