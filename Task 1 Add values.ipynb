{
 "cells": [
  {
   "cell_type": "code",
   "execution_count": 1,
   "id": "09c844fc",
   "metadata": {},
   "outputs": [],
   "source": [
    "from qiskit import ClassicalRegister, QuantumRegister, QuantumCircuit, execute,IBMQ,BasicAer\n",
    "import Functions as oq\n",
    "from qiskit.tools.monitor import job_monitor\n",
    "import itertools\n",
    "\n",
    "IBMQ.enable_account('API KEY')\n",
    "provider = IBMQ.get_provider(hub='ibm-q')\n",
    "backend = provider.get_backend('ibmq_qasm_simulator')"
   ]
  },
  {
   "cell_type": "code",
   "execution_count": 2,
   "id": "cec9172e",
   "metadata": {},
   "outputs": [
    {
     "name": "stdout",
     "output_type": "stream",
     "text": [
      "      ┌───┐ ░                                    ┌───┐     ┌───┐ ░           »\n",
      " q_0: ┤ H ├─░───■─────────■─────────■─────────■──┤ X ├──■──┤ X ├─░───────────»\n",
      "      ├───┤ ░   │         │  ┌───┐  │         │  ├───┤  │  └───┘ ░           »\n",
      " q_1: ┤ H ├─░───■─────────■──┤ X ├──■─────────■──┤ X ├──■────────░───────────»\n",
      "      ├───┤ ░   │  ┌───┐  │  ├───┤  │  ┌───┐  │  ├───┤  │        ░           »\n",
      " q_2: ┤ H ├─░───■──┤ X ├──■──┤ X ├──■──┤ X ├──■──┤ X ├──■────────░───────────»\n",
      "      └───┘ ░ ┌─┴─┐└───┘  │  └───┘  │  └───┘  │  └───┘  │        ░           »\n",
      " q_3: ──────░─┤ X ├───────┼─────────┼─────────┼─────────┼────────░───■───────»\n",
      "            ░ └───┘     ┌─┴─┐       │         │         │        ░   │       »\n",
      " q_4: ──────░───────────┤ X ├───────┼─────────┼─────────┼────────░───┼───────»\n",
      "            ░           └───┘     ┌─┴─┐       │         │        ░   │       »\n",
      " q_5: ──────░─────────────────────┤ X ├───────┼─────────┼────────░───┼────■──»\n",
      "            ░                     └───┘     ┌─┴─┐       │        ░   │    │  »\n",
      " q_6: ──────░───────────────────────────────┤ X ├───────┼────────░───┼────┼──»\n",
      "            ░                               └───┘     ┌─┴─┐      ░   │    │  »\n",
      " q_7: ──────░─────────────────────────────────────────┤ X ├──────░───┼────┼──»\n",
      "            ░                                         └───┘      ░   │    │  »\n",
      " q_8: ──────░────────────────────────────────────────────────────░───┼────┼──»\n",
      "            ░                                                    ░   │  ┌─┴─┐»\n",
      " q_9: ──────░────────────────────────────────────────────────────░───┼──┤ X ├»\n",
      "            ░                                                    ░ ┌─┴─┐└───┘»\n",
      "q_10: ──────░────────────────────────────────────────────────────░─┤ X ├─────»\n",
      "            ░                                                    ░ └───┘     »\n",
      "q_11: ──────░────────────────────────────────────────────────────░───────────»\n",
      "            ░                                                    ░           »\n",
      "q_12: ──────░────────────────────────────────────────────────────░───────────»\n",
      "            ░                                                    ░           »\n",
      "c: 13/═══════════════════════════════════════════════════════════════════════»\n",
      "                                                                             »\n",
      "«                                          ░ ┌─┐                              »\n",
      "« q_0: ────────────────────────────────────░─┤M├──────────────────────────────»\n",
      "«                                          ░ └╥┘┌─┐                           »\n",
      "« q_1: ────────────────────────────────────░──╫─┤M├───────────────────────────»\n",
      "«                                          ░  ║ └╥┘┌─┐                        »\n",
      "« q_2: ────────────────────────────────────░──╫──╫─┤M├────────────────────────»\n",
      "«                                          ░  ║  ║ └╥┘┌─┐                     »\n",
      "« q_3: ──■─────────────────────────────────░──╫──╫──╫─┤M├─────────────────────»\n",
      "«        │                                 ░  ║  ║  ║ └╥┘┌─┐                  »\n",
      "« q_4: ──┼────■─────────■────■─────────────░──╫──╫──╫──╫─┤M├──────────────────»\n",
      "«        │    │         │    │             ░  ║  ║  ║  ║ └╥┘┌─┐               »\n",
      "« q_5: ──┼────┼─────────┼────┼─────────────░──╫──╫──╫──╫──╫─┤M├───────────────»\n",
      "«        │    │         │    │             ░  ║  ║  ║  ║  ║ └╥┘┌─┐            »\n",
      "« q_6: ──┼────┼────■────┼────┼────■────────░──╫──╫──╫──╫──╫──╫─┤M├────────────»\n",
      "«        │    │    │    │    │    │        ░  ║  ║  ║  ║  ║  ║ └╥┘┌─┐         »\n",
      "« q_7: ──┼────┼────┼────┼────┼────┼────■───░──╫──╫──╫──╫──╫──╫──╫─┤M├─────────»\n",
      "«        │    │    │    │    │    │    │   ░  ║  ║  ║  ║  ║  ║  ║ └╥┘┌─┐      »\n",
      "« q_8: ──┼────┼────┼────┼────┼────┼────┼───░──╫──╫──╫──╫──╫──╫──╫──╫─┤M├──────»\n",
      "«        │    │  ┌─┴─┐  │    │    │    │   ░  ║  ║  ║  ║  ║  ║  ║  ║ └╥┘┌─┐   »\n",
      "« q_9: ──┼────┼──┤ X ├──┼────┼────┼────┼───░──╫──╫──╫──╫──╫──╫──╫──╫──╫─┤M├───»\n",
      "«        │  ┌─┴─┐└───┘  │    │    │    │   ░  ║  ║  ║  ║  ║  ║  ║  ║  ║ └╥┘┌─┐»\n",
      "«q_10: ──┼──┤ X ├───────┼────┼────┼────┼───░──╫──╫──╫──╫──╫──╫──╫──╫──╫──╫─┤M├»\n",
      "«        │  └───┘     ┌─┴─┐  │    │    │   ░  ║  ║  ║  ║  ║  ║  ║  ║  ║  ║ └╥┘»\n",
      "«q_11: ──┼────────────┤ X ├──┼────┼────┼───░──╫──╫──╫──╫──╫──╫──╫──╫──╫──╫──╫─»\n",
      "«      ┌─┴─┐          └───┘┌─┴─┐┌─┴─┐┌─┴─┐ ░  ║  ║  ║  ║  ║  ║  ║  ║  ║  ║  ║ »\n",
      "«q_12: ┤ X ├───────────────┤ X ├┤ X ├┤ X ├─░──╫──╫──╫──╫──╫──╫──╫──╫──╫──╫──╫─»\n",
      "«      └───┘               └───┘└───┘└───┘ ░  ║  ║  ║  ║  ║  ║  ║  ║  ║  ║  ║ »\n",
      "«c: 13/═══════════════════════════════════════╩══╩══╩══╩══╩══╩══╩══╩══╩══╩══╩═»\n",
      "«                                             0  1  2  3  4  5  6  7  8  9  10»\n",
      "«            \n",
      "« q_0: ──────\n",
      "«            \n",
      "« q_1: ──────\n",
      "«            \n",
      "« q_2: ──────\n",
      "«            \n",
      "« q_3: ──────\n",
      "«            \n",
      "« q_4: ──────\n",
      "«            \n",
      "« q_5: ──────\n",
      "«            \n",
      "« q_6: ──────\n",
      "«            \n",
      "« q_7: ──────\n",
      "«            \n",
      "« q_8: ──────\n",
      "«            \n",
      "« q_9: ──────\n",
      "«            \n",
      "«q_10: ──────\n",
      "«      ┌─┐   \n",
      "«q_11: ┤M├───\n",
      "«      └╥┘┌─┐\n",
      "«q_12: ─╫─┤M├\n",
      "«       ║ └╥┘\n",
      "«c: 13/═╩══╩═\n",
      "«       11 12\n",
      "we  need 5 qubits for the index and 5 qubits of the values, i.e:\n",
      "5=> |1000000101>\n",
      "7=> |0100000111>\n",
      "8=> |0010001000>\n",
      "9=> |0001001001>\n",
      "1=> |0000100001>\n"
     ]
    }
   ],
   "source": [
    "s=list(oq.QRAM().keys()) # we  need 5 qubits for the index and 5 qubits of the values\n",
    "l=[5,7,8,9,1]\n",
    "print(\"we  need 5 qubits for the index and 5 qubits of the values, i.e:\")\n",
    "for j in l:\n",
    "    for i in s :\n",
    "        if i!='0000000000000' and i!= '0000000000010' and i!= '0000000000100':\n",
    "            h=i[0:10][::-1]\n",
    "            if (int(bin(j).replace(\"0b\", \"\"))==int(h[5:10])):\n",
    "                print(str(j)+'=> |'+h+'>') #|index of the vector⟩|value of the index⟩"
   ]
  },
  {
   "cell_type": "code",
   "execution_count": 3,
   "id": "d4d0b378",
   "metadata": {},
   "outputs": [
    {
     "name": "stdout",
     "output_type": "stream",
     "text": [
      "[[5], [7], [8], [9], [1], [5, 7], [5, 8], [5, 9], [5, 1], [7, 8], [7, 9], [7, 1], [8, 9], [8, 1], [9, 1], [5, 7, 8], [5, 7, 9], [5, 7, 1], [5, 8, 9], [5, 8, 1], [5, 9, 1], [7, 8, 9], [7, 8, 1], [7, 9, 1], [8, 9, 1], [5, 7, 8, 9], [5, 7, 8, 1], [5, 7, 9, 1], [5, 8, 9, 1], [7, 8, 9, 1], [5, 7, 8, 9, 1]]\n"
     ]
    }
   ],
   "source": [
    "all_combinations = []\n",
    "l1=[]\n",
    "l=[5,7,8,9,1]\n",
    "for r in range(len(l) + 1):\n",
    "    combinations_object = itertools.combinations(l, r)\n",
    "    all_combinations += combinations_object\n",
    "for i in all_combinations[1:]:\n",
    "    i=[*i]\n",
    "    l1+=[i]       \n",
    "print(l1) #return all the combination of l=[5,7,8,9,1]"
   ]
  },
  {
   "cell_type": "code",
   "execution_count": 4,
   "id": "cbd31e99",
   "metadata": {},
   "outputs": [],
   "source": [
    "def Qadd(A,B):\n",
    "    qa = QuantumRegister(len(A)+1,name='a')\n",
    "    qb = QuantumRegister(len(B),name='b')\n",
    "    qc = QuantumCircuit(qa,qb,name='qc')\n",
    "    #--------------------------------------\n",
    "    oq.Quantum_Adder(qc,qa,qb,A,B)\n",
    "    qc.draw()\n",
    "    return(oq.Wavefunction(qc,systems=[len(A)+1,len(B)],show_systems=[True,False]))\n"
   ]
  },
  {
   "cell_type": "code",
   "execution_count": 5,
   "id": "0ca37c46",
   "metadata": {},
   "outputs": [
    {
     "name": "stdout",
     "output_type": "stream",
     "text": [
      "The sum of the numbers equal to the value 16 in the following vector [5,7,8,9,1] is:\n",
      "[7, 9]=>|01010>\n",
      "[7, 8, 1]=>|01101>\n"
     ]
    }
   ],
   "source": [
    "print(\"The sum of the numbers equal to the value 16 in the following vector [5,7,8,9,1] is:\")\n",
    "for i in l1:\n",
    "    B=[int(t) for t in bin(i[0])[2:]]\n",
    "    k=i[0]\n",
    "    for j in range(1,len(i)): \n",
    "        A=[int(t) for t in bin(int(i[j]))[2:]]\n",
    "        \n",
    "        if (len(A)!=len(B)):\n",
    "            while True:\n",
    "                    if len(A)<len(B):\n",
    "                        A=[0]+A\n",
    "                    elif len(A)>len(B): \n",
    "                        B=[0]+B\n",
    "                    else : break\n",
    "        k+=int(i[j])\n",
    "        \n",
    "        if (k==16 and j==len(i)-1) :\n",
    "            h=[]\n",
    "            z='|'\n",
    "            for w in i:\n",
    "                h+=[l.index(w)]\n",
    "            for p in range(len(l)):\n",
    "                if p in h :\n",
    "                    z+='1'\n",
    "                else:z+='0'\n",
    "            print(str(i)+'=>'+z+'>')    \n",
    "            break\n",
    "        else:\n",
    "            c=bin(int(i[j]+i[j-1]))[2:]\n",
    "            if (c in Qadd(A,B)):\n",
    "                value=[]\n",
    "                for p in Qadd(A,B):\n",
    "                    value+=[[int(t) for t in bin(int(p,2))[2:]]]\n",
    "                B=value[Qadd(A,B).index(c)]\n",
    "            continue\n"
   ]
  },
  {
   "cell_type": "code",
   "execution_count": null,
   "id": "ab53ad6d",
   "metadata": {},
   "outputs": [],
   "source": []
  }
 ],
 "metadata": {
  "kernelspec": {
   "display_name": "Python 3",
   "language": "python",
   "name": "python3"
  },
  "language_info": {
   "codemirror_mode": {
    "name": "ipython",
    "version": 3
   },
   "file_extension": ".py",
   "mimetype": "text/x-python",
   "name": "python",
   "nbconvert_exporter": "python",
   "pygments_lexer": "ipython3",
   "version": "3.8.8"
  }
 },
 "nbformat": 4,
 "nbformat_minor": 5
}
